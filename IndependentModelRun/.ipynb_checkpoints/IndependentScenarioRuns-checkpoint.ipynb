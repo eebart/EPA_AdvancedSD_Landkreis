{
 "cells": [
  {
   "cell_type": "markdown",
   "metadata": {},
   "source": [
    "# Independent Model Runs\n",
    "\n",
    "This notebook provides wrapper code to run a model independently over multiple sets of input data. The code that needs to be edited can be found at the end of this file. \n",
    "\n",
    "If the model is not in the same directory as this notebook, then you will need to reset the kernel each time you run the script. \n",
    "\n",
    "The `caseFile` csv supports both regular parameters and lookups. If the parameter is a lookup, the value in the csv should be a new CSV file where the column headers are the X values and the row entries are the y values. The lookup CSV should have either a matching 'name' or 'id' column that maps the data to the case in the main `caseFile`. Most often, the row entries for a Lookup parameter should hold the same csv file name, but that is not required. "
   ]
  },
  {
   "cell_type": "code",
   "execution_count": null,
   "metadata": {
    "collapsed": false
   },
   "outputs": [],
   "source": [
    "import pandas as pd\n",
    "from IndependentModelRun import save_results, Result, Case, Model"
   ]
  },
  {
   "cell_type": "code",
   "execution_count": null,
   "metadata": {
    "collapsed": false
   },
   "outputs": [],
   "source": [
    "modelName = 'model'\n",
    "\n",
    "workingDirectory = r'.' #this should not change\n",
    "modelFile = r'lookup.vpm'\n",
    "\n",
    "model = Model(modelName,workingDirectory,modelFile)\n",
    "model.add_outcomes(['a'])\n",
    "\n",
    "#The rows are separate cases\n",
    "#The columns are variables in the model\n",
    "#Preset columns are 'id' and 'name'. Both are optional but at least having 'name' is preferred. \n",
    "#All other columns should directly map to variables in the model.\n",
    "caseFile = 'lookup.csv'\n",
    "case_frame = pd.read_csv(workingDirectory + '/' + caseFile,encoding='UTF-8') #this line should stay the same\n",
    "\n",
    "#manipulate dataframe as needed. \n",
    "\n",
    "model.build_cases_from_dict(case_frame.to_dict('records'))"
   ]
  },
  {
   "cell_type": "code",
   "execution_count": null,
   "metadata": {
    "collapsed": false
   },
   "outputs": [],
   "source": [
    "#Run the cases\n",
    "model.run_cases()"
   ]
  },
  {
   "cell_type": "code",
   "execution_count": null,
   "metadata": {
    "collapsed": false
   },
   "outputs": [],
   "source": [
    "#Save the results to a compressed file.\n",
    "#Each output variable has a separate CSV where one line in the CSV represents one case\n",
    "resultsFile = r'results.tar.gz'\n",
    "save_results(model.cases, resultsFile)"
   ]
  },
  {
   "cell_type": "code",
   "execution_count": null,
   "metadata": {
    "collapsed": true
   },
   "outputs": [],
   "source": []
  }
 ],
 "metadata": {
  "kernelspec": {
   "display_name": "Python 3",
   "language": "python",
   "name": "python3"
  },
  "language_info": {
   "codemirror_mode": {
    "name": "ipython",
    "version": 3
   },
   "file_extension": ".py",
   "mimetype": "text/x-python",
   "name": "python",
   "nbconvert_exporter": "python",
   "pygments_lexer": "ipython3",
   "version": "3.6.0"
  }
 },
 "nbformat": 4,
 "nbformat_minor": 2
}
